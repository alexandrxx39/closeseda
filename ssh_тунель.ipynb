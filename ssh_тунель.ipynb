{
  "nbformat": 4,
  "nbformat_minor": 0,
  "metadata": {
    "colab": {
      "provenance": [],
      "authorship_tag": "ABX9TyPonIC6PXr4nGpygcNAC/u2",
      "include_colab_link": true
    },
    "kernelspec": {
      "name": "python3",
      "display_name": "Python 3"
    },
    "language_info": {
      "name": "python"
    }
  },
  "cells": [
    {
      "cell_type": "markdown",
      "metadata": {
        "id": "view-in-github",
        "colab_type": "text"
      },
      "source": [
        "<a href=\"https://colab.research.google.com/github/alexandrxx39/closeseda/blob/main/ssh_%D1%82%D1%83%D0%BD%D0%B5%D0%BB%D1%8C.ipynb\" target=\"_parent\"><img src=\"https://colab.research.google.com/assets/colab-badge.svg\" alt=\"Open In Colab\"/></a>"
      ]
    },
    {
      "cell_type": "code",
      "source": [
        "pip install paramiko"
      ],
      "metadata": {
        "colab": {
          "base_uri": "https://localhost:8080/"
        },
        "collapsed": true,
        "id": "1TbCcaAthXWJ",
        "outputId": "5ad62c8b-ce65-4a7c-d4f7-78236aa1633c"
      },
      "execution_count": 2,
      "outputs": [
        {
          "output_type": "stream",
          "name": "stdout",
          "text": [
            "Collecting paramiko\n",
            "  Downloading paramiko-3.5.0-py3-none-any.whl.metadata (4.4 kB)\n",
            "Collecting bcrypt>=3.2 (from paramiko)\n",
            "  Downloading bcrypt-4.2.0-cp39-abi3-manylinux_2_28_x86_64.whl.metadata (9.6 kB)\n",
            "Requirement already satisfied: cryptography>=3.3 in /usr/local/lib/python3.10/dist-packages (from paramiko) (43.0.3)\n",
            "Collecting pynacl>=1.5 (from paramiko)\n",
            "  Downloading PyNaCl-1.5.0-cp36-abi3-manylinux_2_17_x86_64.manylinux2014_x86_64.manylinux_2_24_x86_64.whl.metadata (8.6 kB)\n",
            "Requirement already satisfied: cffi>=1.12 in /usr/local/lib/python3.10/dist-packages (from cryptography>=3.3->paramiko) (1.17.1)\n",
            "Requirement already satisfied: pycparser in /usr/local/lib/python3.10/dist-packages (from cffi>=1.12->cryptography>=3.3->paramiko) (2.22)\n",
            "Downloading paramiko-3.5.0-py3-none-any.whl (227 kB)\n",
            "\u001b[2K   \u001b[90m━━━━━━━━━━━━━━━━━━━━━━━━━━━━━━━━━━━━━━━━\u001b[0m \u001b[32m227.1/227.1 kB\u001b[0m \u001b[31m4.0 MB/s\u001b[0m eta \u001b[36m0:00:00\u001b[0m\n",
            "\u001b[?25hDownloading bcrypt-4.2.0-cp39-abi3-manylinux_2_28_x86_64.whl (273 kB)\n",
            "\u001b[2K   \u001b[90m━━━━━━━━━━━━━━━━━━━━━━━━━━━━━━━━━━━━━━━━\u001b[0m \u001b[32m273.8/273.8 kB\u001b[0m \u001b[31m17.6 MB/s\u001b[0m eta \u001b[36m0:00:00\u001b[0m\n",
            "\u001b[?25hDownloading PyNaCl-1.5.0-cp36-abi3-manylinux_2_17_x86_64.manylinux2014_x86_64.manylinux_2_24_x86_64.whl (856 kB)\n",
            "\u001b[2K   \u001b[90m━━━━━━━━━━━━━━━━━━━━━━━━━━━━━━━━━━━━━━━━\u001b[0m \u001b[32m856.7/856.7 kB\u001b[0m \u001b[31m18.6 MB/s\u001b[0m eta \u001b[36m0:00:00\u001b[0m\n",
            "\u001b[?25hInstalling collected packages: bcrypt, pynacl, paramiko\n",
            "Successfully installed bcrypt-4.2.0 paramiko-3.5.0 pynacl-1.5.0\n"
          ]
        }
      ]
    },
    {
      "cell_type": "code",
      "source": [
        "import paramiko\n",
        "import pandas as pd"
      ],
      "metadata": {
        "id": "QJpXHjIY76Tf"
      },
      "execution_count": 3,
      "outputs": []
    },
    {
      "cell_type": "code",
      "source": [
        "# подключить ssh тунель на vps для юпитер ноутбук\n",
        "import paramiko\n",
        "from google.colab import output\n",
        "\n",
        "# Параметры подключения\n",
        "hostname = ''",
        "port = ",
        "username = ''",
        "password = ''",
        "\n",
        "# Настройка SSH-соединения\n",
        "ssh_client = paramiko.SSHClient()\n",
        "ssh_client.set_missing_host_key_policy(paramiko.AutoAddPolicy())\n",
        "\n",
        "try:\n",
        "    # Установка соединения с сервером SSH\n",
        "    ssh_client.connect(hostname=hostname, port=port, username=username, password=password)\n",
        "\n",
        "    # Настройка SSH-туннеля\n",
        "    ssh_tunnel_command = f'ssh -N -L 8888:localhost:8888 {username}@{hostname}'\n",
        "    output.eval_js('new Audio(\"https://upload.wikimedia.org/wikipedia/commons/0/05/Beep-09.ogg\").play()') # Воспроизведение звукового сигнала\n",
        "    print('Туннель SSH настроен. Вы можете открыть Jupyter Notebook по адресу http://localhost:8888')\n",
        "\n",
        "except Exception as e:\n",
        "    print(f\"Ошибка настройки SSH Forwarder: {e}\")\n",
        "\n",
        "finally:\n",
        "    ssh_client.close()\n"
      ],
      "metadata": {
        "colab": {
          "base_uri": "https://localhost:8080/",
          "height": 34
        },
        "id": "zyUIcXqR76aP",
        "outputId": "25f442cf-60a4-4a4d-d2e4-3ba609e4d27a"
      },
      "execution_count": 4,
      "outputs": [
        {
          "output_type": "stream",
          "name": "stdout",
          "text": [
            "Туннель SSH настроен. Вы можете открыть Jupyter Notebook по адресу http://localhost:8888\n"
          ]
        }
      ]
    },
    {
      "cell_type": "code",
      "source": [],
      "metadata": {
        "id": "8_zKH5-Ez5r1"
      },
      "execution_count": null,
      "outputs": []
    }
  ]
}
